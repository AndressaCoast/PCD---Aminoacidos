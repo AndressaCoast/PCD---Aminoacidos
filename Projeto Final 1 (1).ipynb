{
 "cells": [
  {
   "cell_type": "code",
   "execution_count": 1,
   "id": "7a2c2044",
   "metadata": {},
   "outputs": [],
   "source": [
    "#!pip install peptides\n",
    "import peptides"
   ]
  },
  {
   "cell_type": "code",
   "execution_count": 2,
   "id": "c2ce017e",
   "metadata": {},
   "outputs": [],
   "source": [
    "teste_DNA = \"\"\"ATGGGTGCGAGAGCGTCAGTATTAAGCGGGGGAGAATTAGATCGATGGGAAAAAA\n",
    "TTCGGTTAAGGCCAGGGGGAAAGAAAAAATATAAATTAAAACATATAGTATGGGCAAGCAGGGAGCTAGA\n",
    "ACGATTCGCAGTTAATCCTGGCCTGTTAGAAACATCAGAAGGCTGTAGACAAATACTGGGACAGCTACAA\n",
    "CCATCCCTTCAGACAGGATCAGAAGAACTTAGATCATTATATAATACAGTAGCAACCCTCTATTGTGTGC\n",
    "ATCAAAGGATAGAGATAAAAGACACCAAGGAAGCTTTAGACAAGATAGAGGAAGAGCAAAACAAAAGTAA\n",
    "GAAAAAAGCACAGCAAGCAGCAGCTGACACAGGACACAGCAATCAGGTCAGCCAA\"\"\"\n",
    "\n",
    "# input(str(\"Insira uma sequência de DNA: \"))\n",
    "\n",
    "teste_aa = \"MLQLGLRVLGCKASSVLRASTCLAGRAGRKEAGWECGGARSFSSSAVTMAPIKVGDAIPSVEVFEGEPGKKVNLAELFKGKKGVLFGVPGAFTPGCSKTHLPGFVEQAGALKAKGAQVVACLSVNDVFVIEEWGRAHQAEGKVRLLADPTGAFGKATDLLLDDSLVSLFGNRRLKRFSMVIDNGIVKALNVEPDGTGLTCSLAPNILSQL\""
   ]
  },
  {
   "cell_type": "code",
   "execution_count": 3,
   "id": "31aeefc9",
   "metadata": {},
   "outputs": [],
   "source": [
    "Aminoacidos = {\n",
    "    \"A\":{\"Nome\": \"Alanina\", \"Abreviacao\": \"Ala\", \"Codons\": [\"GCU\", \"GCA\",\"GCC\",\"GCG\"], \"Polaridade\": \"Apolar\", \"pK1\": 2.35, \"pK2\": 9.87 , \"Massa\" :89.10 },\n",
    "    \"R\":{\"Nome\": \"Arginina\", \"Abreviacao\" : \"Arg\", \"Codons\" : [\"CGU\", \"CGC\",\"CGA\",\"CGG\",\"AGA\",\"AGG\"], \"Polaridade\": \"Polar Básico\", \"pK1\": 1.82, \"pK2\": 8.99, \"pK3\": 12.48 , \"Massa\" :174.20 },\n",
    "    \"N\":{\"Nome\":\"Asparagina\", \"Abreviacao\": \"Asn\", \"Codons\":[\"AAU\",\"AAC\"], \"Polaridade\":\"Polar\", \"pK1\":2.14, \"pK2\":8.72 , \"Massa\" :132.12 },\n",
    "    \"D\":{\"Nome\": \"Ácido Aspártico\", \"Abreviacao\" : \"Asp\", \"Codons\" : [\"GAU\", \"GAC\"], \"Polaridade\": \"Polar Ácido\", \"pK1\": 1.99, \"pK2\": 9.90, \"pK3\": 3.90 , \"Massa\" :133.11 },\n",
    "    \"C\":{\"Nome\":\"Cisteina\", \"Abreviacao\": \"Cys\", \"Codons\":[\"UGU\",\"UGC\"], \"Polaridade\":\"Polar\", \"pK1\":1.92, \"pK2\":10.70, \"pK3\":8.37 , \"Massa\" :121.16 },\n",
    "    \"E\":{\"Nome\": \"Ácido Glutâmico\", \"Abreviacao\" : \"Glu\", \"Codons\" : [\"GAA\", \"GAG\"], \"Polaridade\": \"Polar Ácido\", \"pK1\": 2.10, \"pK2\": 9.47, \"pK3\": 4.07 , \"Massa\" :147.13 },\n",
    "    \"Q\":{\"Nome\":\"Glutamina\", \"Abreviacao\": \"Gln\", \"Codons\":[\"CAA\",\"CAG\"], \"Polaridade\":\"Polar\", \"pK1\":2.17, \"pK2\":9.13 , \"Massa\" :146.15 },  \n",
    "    \"G\":{\"Nome\": \"Glicina\", \"Abreviacao\": \"Gly\", \"Codons\": [\"GGU\", \"GGC\", \"GGA\", \"GGG\"], \"Polaridade\": \"Apolar\", \"pK1\": 2.35, \"pK2\": 9.78 , \"Massa\" :75.07 },\n",
    "    \"H\":{\"Nome\": \"Histidina\", \"Abreviacao\" : \"His\", \"Codons\" : [\"CAU\", \"CAC\"], \"Polaridade\": \"Polar Básico\", \"pK1\": 1.80, \"pK2\": 9.33, \"pk3\": 6.04 , \"Massa\" :155.16 },\n",
    "    \"I\":{\"Nome\": \"Isoleucina\", \"Abreviacao\": \"Ile\", \"Codons\": [\"AUU\", \"AUC\",\"AUA\"], \"Polaridade\": \"Apolar\", \"pK1\": 2.32, \"pK2\": 9.76 , \"Massa\" :131.18 },\n",
    "    \"L\":{\"Nome\": \"Leucina\", \"Abreviacao\": \"Leu\", \"Codons\": [\"UUA\", \"UUG\",\"CUU\",\"CUC\",\"CUA\",\"CUG\"], \"Polaridade\": \"Apolar\", \"pK1\": 2.33, \"pK2\": 9.74 , \"Massa\" :131.18 },\n",
    "    \"K\":{\"Nome\": \"Lisina\", \"Abreviacao\" : \"Lys\", \"Codons\" : [\"AAA\", \"AAG\"], \"Polaridade\": \"Polar Básico\", \"pK1\": 2.16, \"pK2\": 9.06, \"pK3\": 10.54 , \"Massa\" :146.19 },\n",
    "    \"M\":{\"Nome\": \"Metionina\", \"Abreviacao\": \"Met\", \"Codons\": [\"AUG\"], \"Polaridade\": \"Apolar\", \"pK1\": 2.13, \"pK2\": 9.28 , \"Massa\" :149.21 },\n",
    "    \"F\":{\"Nome\": \"Fenilalanina\", \"Abreviacao\": \"Phe\", \"Codons\": [\"UUU\", \"UUC\"], \"Polaridade\": \"Apolar\", \"pK1\": 2.20, \"pK2\": 9.31 , \"Massa\" :165.19 },\n",
    "    \"P\":{\"Nome\": \"Prolina\", \"Abreviacao\": \"Pro\", \"Codons\": [\"CCU\",\"CCC\",\"CCA\",\"CCG\"], \"Polaridade\": \"Apolar\", \"pK1\": 1.95, \"pK2\": 10.64 , \"Massa\" :115.13 },\n",
    "    \"S\":{\"Nome\": \"Serina\", \"Abreviacao\": \"Ser\", \"Codons\": [\"UCU\", \"UCC\", \"UCA\", \"UCG\",\"AGU\",\"AGC\"], \"Polaridade\": \"Polar\", \"pK1\": 2.19, \"pK2\": 9.21 , \"Massa\" :105.09 },\n",
    "    \"T\":{\"Nome\": \"Treonina\", \"Abreviacao\": \"Thr\", \"Codons\": [\"ACU\",\"ACC\",\"ACA\",\"ACG\"], \"Polaridade\": \"Polar\", \"pK1\":2.09, \"pK2\":9.10, \"pK3\":13.6 , \"Massa\" :119.12 },\n",
    "    \"W\":{\"Nome\": \"Triptofano\", \"Abreviacao\": \"Trp\", \"Codons\" : [\"UGG\"], \"Polaridade\": \"Apolar\", \"pK1\": 2.46, \"pK2\": 9.41 , \"Massa\" :204.23 },\n",
    "    \"Y\":{\"Nome\":\"Tirosina\", \"Abreviacao\": \"Tyr\", \"Codons\":[\"UAU\",\"UAC\"], \"Polaridade\":\"Polar\", \"pK1\":2.20, \"pK2\":9.11, \"pK3\":10.10 , \"Massa\" :181.19 },\n",
    "    \"V\":{\"Nome\": \"Valina\", \"Abreviacao\": \"Val\", \"Codons\": [\"GUU\", \"GUA\",\"GUC\",\"GUG\"], \"Polaridade\": \"Apolar\", \"pK1\": 2.29, \"pK2\": 9.74 , \"Massa\" :117.15 },\n",
    "    \"Z\":{\"Nome\": \"Códon de parada\", \"Abreviacao\" : \"STOP\", \"Codons\" : [\"UAA\", \"UAG\",\"UGA\"]},\n",
    "}"
   ]
  },
  {
   "cell_type": "code",
   "execution_count": 4,
   "id": "68d91ca2",
   "metadata": {},
   "outputs": [
    {
     "data": {
      "text/plain": [
       "'UACCCACGCUCUCGCAGUCAUAAUUCGCCCCCUCUUAAUCUAGCUACCCUUUUUUAAGCCAAUUCCGGUCCCCCUUUCUUUUUUAUAUUUAAUUUUGUAUAUCAUACCCGUUCGUCCCUCGAUCUUGCUAAGCGUCAAUUAGGACCGGACAAUCUUUGUAGUCUUCCGACAUCUGUUUAUGACCCUGUCGAUGUUGGUAGGGAAGUCUGUCCUAGUCUUCUUGAAUCUAGUAAUAUAUUAUGUCAUCGUUGGGAGAUAACACACGUAGUUUCCUAUCUCUAUUUUCUGUGGUUCCUUCGAAAUCUGUUCUAUCUCCUUCUCGUUUUGUUUUCAUUCUUUUUUCGUGUCGUUCGUCGUCGACUGUGUCCUGUGUCGUUAGUCCAGUCGGUU'"
      ]
     },
     "execution_count": 4,
     "metadata": {},
     "output_type": "execute_result"
    }
   ],
   "source": [
    "def transcricao(fita_DNA): #transforma uma entrada de DNA em mRNA\n",
    "\n",
    "    fita_RNA = str()\n",
    "    \n",
    "    for i in fita_DNA:\n",
    "        if i == \"A\":\n",
    "            fita_RNA += \"U\"\n",
    "        elif i == \"T\":\n",
    "            fita_RNA += \"A\"\n",
    "        elif i == \"C\":\n",
    "            fita_RNA += \"G\"\n",
    "        elif i == \"G\":\n",
    "            fita_RNA += \"C\"\n",
    "    \n",
    "    return fita_RNA\n",
    "\n",
    "transcricao(teste_DNA)"
   ]
  },
  {
   "cell_type": "code",
   "execution_count": 5,
   "id": "fdc988b1",
   "metadata": {
    "scrolled": true
   },
   "outputs": [
    {
     "data": {
      "text/plain": [
       "'TSLGSLFNVYVVRH'"
      ]
     },
     "execution_count": 5,
     "metadata": {},
     "output_type": "execute_result"
    }
   ],
   "source": [
    "def traducao(fita_RNA): #transforma uma entrada de mRNA em sequência de aminoácidos\n",
    "    \n",
    "    fita_RNA = fita_RNA.upper() #certifica que a entrada está em letras maiúsculas para comparar com o dicionário\n",
    "    \n",
    "    #usa compreensão de lista para selecionar a região a ser traduzida\n",
    "    for i in range(len(fita_RNA)):\n",
    "        valido = False\n",
    "        if [fita_RNA[j:j+3] for j in range(i, len(fita_RNA), 3)][0] == \"AUG\":\n",
    "            codons = [fita_RNA[j:j+3] for j in range(i+3, len(fita_RNA), 3)]\n",
    "            valido = True\n",
    "            break\n",
    "\n",
    "    if not valido:\n",
    "        raise(ValueError(\"Não foi identificado códon de iniciação AUG.\"))\n",
    "\n",
    "        \n",
    "    #checa onde a sequência deve terminar, de acordo com os codons de terminação em Aminoacidos[\"Z\"]\n",
    "    codons_sequencia = []\n",
    "\n",
    "    for k in codons:\n",
    "        if k not in Aminoacidos[\"Z\"][\"Codons\"]:\n",
    "            codons_sequencia.append(k)\n",
    "            codons.pop(codons.index(k))\n",
    "        else:\n",
    "            break\n",
    "\n",
    "    #encontra os devidos aminoácidos de cada códon e retorna uma string\n",
    "    peptideo = str()\n",
    "\n",
    "    for i in codons_sequencia:\n",
    "        for j in Aminoacidos:\n",
    "            if i in Aminoacidos[j][\"Codons\"]:\n",
    "                peptideo += j\n",
    "\n",
    "    return peptideo\n",
    "\n",
    "traducao(transcricao(teste_DNA))"
   ]
  },
  {
   "cell_type": "code",
   "execution_count": 6,
   "id": "92016d65",
   "metadata": {},
   "outputs": [
    {
     "data": {
      "text/plain": [
       "'TSLGSLFNVYVVRH'"
      ]
     },
     "execution_count": 6,
     "metadata": {},
     "output_type": "execute_result"
    }
   ],
   "source": [
    "def DNA2protein(fita_DNA):\n",
    "    fita_RNA = transcricao(fita_DNA)\n",
    "    return traducao(fita_RNA)\n",
    "\n",
    "DNA2protein(teste_DNA)"
   ]
  },
  {
   "cell_type": "code",
   "execution_count": 7,
   "id": "b13a5f48",
   "metadata": {},
   "outputs": [],
   "source": [
    "def calcula_massa(entrada):\n",
    " \n",
    "    if  'T' in entrada:\n",
    "        entrada = transcricao(entrada)\n",
    "    \n",
    "    massa_total=0\n",
    "    peptideo = traducao(entrada)\n",
    "    for i in peptideo:\n",
    "        massa_total+=Aminoacidos[i][\"Massa\"]\n",
    "        \n",
    "    return massa_total\n",
    "\n",
    "def calcula_massa_peptideo(peptideo):\n",
    " \n",
    "    massa_total=0\n",
    "    for i in peptideo:\n",
    "        massa_total+=Aminoacidos[i][\"Massa\"]\n",
    "        \n",
    "    return massa_total"
   ]
  },
  {
   "cell_type": "code",
   "execution_count": 8,
   "id": "ba8c3adf",
   "metadata": {},
   "outputs": [
    {
     "data": {
      "text/plain": [
       "'Thr-Ser-Leu-Gly-Ser-Leu-Phe-Asn-Val-Tyr-Val-Val-Arg-His'"
      ]
     },
     "execution_count": 8,
     "metadata": {},
     "output_type": "execute_result"
    }
   ],
   "source": [
    "def abreviar(peptideo):\n",
    "    abreviacoes = str()\n",
    "    for i in range(len(peptideo)):\n",
    "        if i == len(peptideo)-1:\n",
    "            abreviacoes += Aminoacidos[peptideo[i]][\"Abreviacao\"]\n",
    "            break\n",
    "        abreviacoes += Aminoacidos[peptideo[i]][\"Abreviacao\"]+ '-'\n",
    "    \n",
    "    return abreviacoes\n",
    "\n",
    "abreviar(traducao(transcricao(teste_DNA)))"
   ]
  },
  {
   "cell_type": "code",
   "execution_count": 9,
   "id": "d3460b14",
   "metadata": {},
   "outputs": [
    {
     "name": "stdout",
     "output_type": "stream",
     "text": [
      "Os 210 aminoácidos dessa sequência estão distribuídos da seguinte forma:\n",
      "\n",
      "Alanina: 23\n",
      "Arginina: 10\n",
      "Asparagina: 6\n",
      "Ácido Aspártico: 8\n",
      "Cisteina: 6\n",
      "Ácido Glutâmico: 11\n",
      "Glutamina: 5\n",
      "Glicina: 26\n",
      "Histidina: 2\n",
      "Isoleucina: 6\n",
      "Leucina: 25\n",
      "Lisina: 15\n",
      "Metionina: 3\n",
      "Fenilalanina: 10\n",
      "Prolina: 9\n",
      "Serina: 15\n",
      "Treonina: 8\n",
      "Triptofano: 2\n",
      "Tirosina: 0\n",
      "Valina: 20\n"
     ]
    }
   ],
   "source": [
    "def contagem_aa(peptideo):\n",
    "    dict_contagem = {}\n",
    "    Aminoacidos_copia = Aminoacidos.copy()\n",
    "    Aminoacidos_copia.pop(\"Z\") #desconsidera os códons de parada\n",
    "    \n",
    "    for i in peptideo:\n",
    "        if i not in dict_contagem:\n",
    "            dict_contagem[i] = 0\n",
    "            \n",
    "        dict_contagem[i] += 1\n",
    "    \n",
    "    print(f\"Os {len(peptideo)} aminoácidos dessa sequência estão distribuídos da seguinte forma:\\n\")\n",
    "    \n",
    "    for j in Aminoacidos_copia:\n",
    "        if j in dict_contagem:\n",
    "            print(\n",
    "                f\"{Aminoacidos_copia[j]['Nome']}: {dict_contagem[j]}\"\n",
    "            )\n",
    "        else:\n",
    "            print(\n",
    "                f\"{Aminoacidos_copia[j]['Nome']}: 0\"\n",
    "            )\n",
    "\n",
    "contagem_aa(teste_aa)"
   ]
  },
  {
   "cell_type": "code",
   "execution_count": 10,
   "id": "286be1aa",
   "metadata": {},
   "outputs": [
    {
     "name": "stdout",
     "output_type": "stream",
     "text": [
      "Transcrição para RNA: UACCCACGCUCUCGCAGUCAUAAUUCGCCCCCUCUUAAUCUAGCUACCCUUUUUUAAGCCAAUUCCGGUCCCCCUUUCUUUUUUAUAUUUAAUUUUGUAUAUCAUACCCGUUCGUCCCUCGAUCUUGCUAAGCGUCAAUUAGGACCGGACAAUCUUUGUAGUCUUCCGACAUCUGUUUAUGACCCUGUCGAUGUUGGUAGGGAAGUCUGUCCUAGUCUUCUUGAAUCUAGUAAUAUAUUAUGUCAUCGUUGGGAGAUAACACACGUAGUUUCCUAUCUCUAUUUUCUGUGGUUCCUUCGAAAUCUGUUCUAUCUCCUUCUCGUUUUGUUUUCAUUCUUUUUUCGUGUCGUUCGUCGUCGACUGUGUCCUGUGUCGUUAGUCCAGUCGGUU\n",
      "\n",
      "Tradução do primeiro peptídeo: TSLGSLFNVYVVRH\n",
      "\n",
      "Abreviações do primeiro peptídeo: Thr-Ser-Leu-Gly-Ser-Leu-Phe-Asn-Val-Tyr-Val-Val-Arg-His\n",
      "\n",
      "Massa molecular: 1826.0400000000004\n",
      "\n",
      "Ponto isoelétrico: 9.351184298284352\n",
      "\n",
      "Os 14 aminoácidos dessa sequência estão distribuídos da seguinte forma:\n",
      "\n",
      "Alanina: 0\n",
      "Arginina: 1\n",
      "Asparagina: 1\n",
      "Ácido Aspártico: 0\n",
      "Cisteina: 0\n",
      "Ácido Glutâmico: 0\n",
      "Glutamina: 0\n",
      "Glicina: 1\n",
      "Histidina: 1\n",
      "Isoleucina: 0\n",
      "Leucina: 2\n",
      "Lisina: 0\n",
      "Metionina: 0\n",
      "Fenilalanina: 1\n",
      "Prolina: 0\n",
      "Serina: 2\n",
      "Treonina: 1\n",
      "Triptofano: 0\n",
      "Tirosina: 1\n",
      "Valina: 3\n"
     ]
    }
   ],
   "source": [
    "def propriedades(fita_DNA):\n",
    "    fita_RNA = transcricao(fita_DNA)\n",
    "    peptideo = traducao(fita_RNA)\n",
    "    print (f\"Transcrição para RNA: {fita_RNA}\\n\")\n",
    "    print (f\"Tradução do primeiro peptídeo: {peptideo}\\n\")\n",
    "    print (f\"Abreviações do primeiro peptídeo: {abreviar(peptideo)}\\n\")\n",
    "    print (f\"Massa molecular: {calcula_massa_peptideo(peptideo)}\\n\")\n",
    "    print (f\"Ponto isoelétrico: {peptides.Peptide(peptideo).isoelectric_point()}\\n\")\n",
    "    contagem_aa(peptideo)   \n",
    "    \n",
    "propriedades(teste_DNA)"
   ]
  },
  {
   "cell_type": "markdown",
   "id": "e78f757e",
   "metadata": {},
   "source": [
    "### Projeto calcula_pI():\n",
    "1) listar pKs em rol - feito\n",
    "2) aglomerar e contar pKs iguais - dicionario_pK feito\n",
    "3) calcular cargas dos grupos carregados (COOH, NH2 e cadeias laterais carregadas) - feito\n",
    "4) selecionar e fazer a média entre os pKs em que o peptídeo passa de carga 0 a -1 - houve tentativa de fazer com média ponderada, mas o resultado não bate com o experimental disponível na literatura\n",
    "\n",
    "Conclusão: código inacabado pois autores não conseguiram compreender como fazer o cálculo."
   ]
  },
  {
   "cell_type": "code",
   "execution_count": 11,
   "id": "ae444368",
   "metadata": {},
   "outputs": [
    {
     "name": "stdout",
     "output_type": "stream",
     "text": [
      "[40, 32, 22, 7, 6, -8, -19]\n"
     ]
    },
    {
     "data": {
      "text/plain": [
       "3.8999999999999995"
      ]
     },
     "execution_count": 11,
     "metadata": {},
     "output_type": "execute_result"
    }
   ],
   "source": [
    "def calcula_pi(peptideo):\n",
    "    lista_pK = list()\n",
    "    contador = 1\n",
    "    \n",
    "    #função para gerar lista de pKs\n",
    "    for i in peptideo:\n",
    "        if len(peptideo) == 1:\n",
    "            pI = (Aminoacidos[i][\"pK1\"]+Aminoacidos[i][\"pK2\"])/2\n",
    "            return pI\n",
    "        \n",
    "        elif contador == 1:\n",
    "            lista_pK.append(Aminoacidos[i][\"pK1\"])\n",
    "            \n",
    "        elif \"pK3\" in Aminoacidos[i]:\n",
    "            lista_pK.append(Aminoacidos[i][\"pK3\"])\n",
    "            \n",
    "        elif contador == len(peptideo):\n",
    "            lista_pK.append(Aminoacidos[i][\"pK2\"])\n",
    "            \n",
    "        contador += 1\n",
    "        \n",
    "    lista_pK.sort()\n",
    "\n",
    "    if len(lista_pK) == 2: #caso a lista de pK tenha 2 elementos\n",
    "        pI = (lista_pK[0]+lista_pK[1])/2\n",
    "        return pI\n",
    "    \n",
    "    #transformando lista_pK em um dicionário com as repetições de cada pK:\n",
    "    dicionario_pK = {}\n",
    "    contador = 1\n",
    "    \n",
    "    for i in range(1, len(lista_pK)):\n",
    "        if lista_pK[i] == lista_pK[i-1]:\n",
    "            contador += 1\n",
    "        else:\n",
    "            contador = 1\n",
    "            \n",
    "        dicionario_pK[lista_pK[i]] = contador\n",
    "        \n",
    "    #função para cálculo das cargas\n",
    "    cargas = []\n",
    "    cargas_negativas = 0\n",
    "    cargas_positivas = 0\n",
    "    \n",
    "    for j in dicionario_pK: #calcula o número de cargas negativas (ácidas) e positivas (básicas)\n",
    "        if float(j) < 6:\n",
    "            cargas.append(-dicionario_pK[j] - cargas_negativas)\n",
    "            cargas_negativas += dicionario_pK[j]\n",
    "        else:\n",
    "            cargas.append(dicionario_pK[j] + cargas_positivas)\n",
    "            cargas_positivas += dicionario_pK[j]\n",
    "    \n",
    "    cargas.sort()\n",
    "    cargas.reverse()\n",
    "    print(cargas)\n",
    "    \n",
    "    #função para selecionar cargas mais próximas de -1 e 0\n",
    "    cargas_menores = [x for x in cargas if x <= -1]\n",
    "    mais_proximo_menor = min(cargas_menores, key=lambda x: abs(x + 1))\n",
    "\n",
    "    cargas_maiores = [x for x in cargas if x >= 0]\n",
    "    mais_proximo_maior = min(cargas_maiores, key=lambda x: abs(x))\n",
    "    \n",
    "    #função que calcula o pI\n",
    "    pK_negativo = lista_pK[cargas.index(mais_proximo_menor)-1]\n",
    "    pK_positivo = lista_pK[cargas.index(mais_proximo_maior)-1]\n",
    "    \n",
    "    pI = (pK_negativo + pK_positivo) / 2\n",
    "    pI = (pK_negativo*abs(mais_proximo_menor) + pK_positivo*abs(mais_proximo_maior)) / (abs(mais_proximo_menor)+abs(mais_proximo_maior))\n",
    "        \n",
    "    return pI\n",
    "\n",
    "calcula_pi(teste_aa)"
   ]
  }
 ],
 "metadata": {
  "kernelspec": {
   "display_name": "Python 3 (ipykernel)",
   "language": "python",
   "name": "python3"
  },
  "language_info": {
   "codemirror_mode": {
    "name": "ipython",
    "version": 3
   },
   "file_extension": ".py",
   "mimetype": "text/x-python",
   "name": "python",
   "nbconvert_exporter": "python",
   "pygments_lexer": "ipython3",
   "version": "3.11.5"
  }
 },
 "nbformat": 4,
 "nbformat_minor": 5
}
