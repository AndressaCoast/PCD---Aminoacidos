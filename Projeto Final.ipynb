{
 "cells": [
  {
   "cell_type": "code",
   "execution_count": 29,
   "id": "c2ce017e",
   "metadata": {},
   "outputs": [],
   "source": [
    "teste_DNA = \"TACCGATACAAAGGGACCCTT\"\n",
    "teste_aa = \"MLQLGLRVLGCKASSVLRASTCLAGRAGRKEAGWECGGARSFSSSAVTMAPIKVGDAIPSVEVFEGEPGKKVNLAELFKGKKGVLFGVPGAFTPGCSKTHLPGFVEQAGALKAKGAQVVACLSVNDVFVIEEWGRAHQAEGKVRLLADPTGAFGKATDLLLDDSLVSLFGNRRLKRFSMVIDNGIVKALNVEPDGTGLTCSLAPNILSQL\""
   ]
  },
  {
   "cell_type": "code",
   "execution_count": 30,
   "id": "68d91ca2",
   "metadata": {},
   "outputs": [
    {
     "data": {
      "text/plain": [
       "'AUGGCUAUGUUUCCCUGGGAA'"
      ]
     },
     "execution_count": 30,
     "metadata": {},
     "output_type": "execute_result"
    }
   ],
   "source": [
    "def transcricao(fita_DNA): #transforma uma entrada de DNA em mRNA\n",
    "\n",
    "    fita_RNA = str()\n",
    "    \n",
    "    for i in fita_DNA:\n",
    "        if i == \"A\":\n",
    "            fita_RNA += \"U\"\n",
    "        elif i == \"T\":\n",
    "            fita_RNA += \"A\"\n",
    "        elif i == \"C\":\n",
    "            fita_RNA += \"G\"\n",
    "        elif i == \"G\":\n",
    "            fita_RNA += \"C\"\n",
    "    \n",
    "    return fita_RNA\n",
    "\n",
    "transcricao(teste_DNA)"
   ]
  },
  {
   "cell_type": "code",
   "execution_count": 31,
   "id": "fdc988b1",
   "metadata": {},
   "outputs": [
    {
     "data": {
      "text/plain": [
       "'AMFPWE'"
      ]
     },
     "execution_count": 31,
     "metadata": {},
     "output_type": "execute_result"
    }
   ],
   "source": [
    "def traducao(string): #transforma uma entrada de mRNA em sequência de aminoácidos\n",
    "    \n",
    "    string = string.upper() #certifica que a entrada está em letras maiúsculas para comparar com o dicionário\n",
    "    \n",
    "    #usa compreensão de lista para selecionar a região a ser traduzida\n",
    "    for i in range(len(string)):\n",
    "        valido = False\n",
    "        if [string[j:j+3] for j in range(i, len(string), 3)][0] == \"AUG\":\n",
    "            codons = [string[j:j+3] for j in range(i+3, len(string), 3)]\n",
    "            valido = True\n",
    "            break\n",
    "\n",
    "    if not valido:\n",
    "        raise(ValueError(\"Não foi identificado códon de iniciação AUG.\"))\n",
    "\n",
    "        \n",
    "    #checa onde a sequência deve terminar, de acordo com os codons de terminação em Aminoacidos[\"Z\"]\n",
    "    codons_sequencia = []\n",
    "\n",
    "    for k in codons:\n",
    "        if k not in Aminoacidos[\"Z\"][\"Codons\"]:\n",
    "            codons_sequencia.append(k)\n",
    "        else:\n",
    "            break\n",
    "\n",
    "    #encontra os devidos aminoácidos de cada códon e retorna uma string\n",
    "    peptideo = str()\n",
    "\n",
    "    for i in codons_sequencia:\n",
    "        for j in Aminoacidos:\n",
    "            if i in Aminoacidos[j][\"Codons\"]:\n",
    "                peptideo += j\n",
    "\n",
    "    return peptideo\n",
    "\n",
    "traducao(transcricao(teste_DNA))"
   ]
  },
  {
   "cell_type": "code",
   "execution_count": 32,
   "id": "31aeefc9",
   "metadata": {},
   "outputs": [],
   "source": [
    "Aminoacidos = {\n",
    "    \"A\":{\"Nome\": \"Alanina\", \"Abreviacao\": \"Ala\", \"Codons\": [\"GCU\", \"GCA\",\"GCC\",\"GCG\"], \"Polaridade\": \"Apolar\", \"pK1\": 2.35, \"pK2\": 9.87 , \"Massa\" :89.10 },\n",
    "    \"R\":{\"Nome\": \"Arginina\", \"Abreviacao\" : \"Arg\", \"Codons\" : [\"CGU\", \"CGC\",\"CGA\",\"CGG\",\"AGA\",\"AGG\"], \"Polaridade\": \"Polar Básico\", \"pK1\": 1.82, \"pK2\": 8.99, \"pK3\": 12.48 , \"Massa\" :174.20 },\n",
    "    \"N\":{\"Nome\":\"Asparagina\", \"Abreviacao\": \"Asn\", \"Codons\":[\"AAU\",\"AAC\"], \"Polaridade\":\"Polar\", \"pK1\":2.14, \"pK2\":8.72 , \"Massa\" :132.12 },\n",
    "    \"D\":{\"Nome\": \"Ácido Aspártico\", \"Abreviacao\" : \"Asp\", \"Codons\" : [\"GAU\", \"GAC\"], \"Polaridade\": \"Polar Ácido\", \"pK1\": 1.99, \"pK2\": 9.90, \"pK3\": 3.90 , \"Massa\" :133.11 },\n",
    "    \"C\":{\"Nome\":\"Cisteina\", \"Abreviacao\": \"Cys\", \"Codons\":[\"UGU\",\"UGC\"], \"Polaridade\":\"Polar\", \"pK1\":1.92, \"pK2\":10.70, \"pK3\":8.37 , \"Massa\" :121.16 },\n",
    "    \"E\":{\"Nome\": \"Ácido Glutâmico\", \"Abreviacao\" : \"Glu\", \"Codons\" : [\"GAA\", \"GAG\"], \"Polaridade\": \"Polar Ácido\", \"pK1\": 2.10, \"pK2\": 9.47, \"pK3\": 4.07 , \"Massa\" :147.13 },\n",
    "    \"Q\":{\"Nome\":\"Glutamina\", \"Abreviacao\": \"Gln\", \"Codons\":[\"CAA\",\"CAG\"], \"Polaridade\":\"Polar\", \"pK1\":2.17, \"pK2\":9.13 , \"Massa\" :146.15 },  \n",
    "    \"G\":{\"Nome\": \"Glicina\", \"Abreviacao\": \"Gly\", \"Codons\": [\"GGU\", \"GGC\", \"GGA\", \"GGG\"], \"Polaridade\": \"Apolar\", \"pK1\": 2.35, \"pK2\": 9.78 , \"Massa\" :75.07 },\n",
    "    \"H\":{\"Nome\": \"Histidina\", \"Abreviacao\" : \"His\", \"Codons\" : [\"CAU\", \"CAC\"], \"Polaridade\": \"Polar Básico\", \"pK1\": 1.80, \"pK2\": 9.33, \"pk3\": 6.04 , \"Massa\" :155.16 },\n",
    "    \"I\":{\"Nome\": \"Isoleucina\", \"Abreviacao\": \"Ile\", \"Codons\": [\"AUU\", \"AUC\",\"AUA\"], \"Polaridade\": \"Apolar\", \"pK1\": 2.32, \"pK2\": 9.76 , \"Massa\" :131.18 },\n",
    "    \"L\":{\"Nome\": \"Leucina\", \"Abreviacao\": \"Leu\", \"Codons\": [\"UUA\", \"UUG\",\"CUU\",\"CUC\",\"CUA\",\"CUG\"], \"Polaridade\": \"Apolar\", \"pK1\": 2.33, \"pK2\": 9.74 , \"Massa\" :131.18 },\n",
    "    \"K\":{\"Nome\": \"Lisina\", \"Abreviacao\" : \"Lys\", \"Codons\" : [\"AAA\", \"AAG\"], \"Polaridade\": \"Polar Básico\", \"pK1\": 2.16, \"pK2\": 9.06, \"pK3\": 10.54 , \"Massa\" :146.19 },\n",
    "    \"M\":{\"Nome\": \"Metionina\", \"Abreviacao\": \"Met\", \"Codons\": [\"AUG\"], \"Polaridade\": \"Apolar\", \"pK1\": 2.13, \"pK2\": 9.28 , \"Massa\" :149.21 },\n",
    "    \"F\":{\"Nome\": \"Fenilalanina\", \"Abreviacao\": \"Phe\", \"Codons\": [\"UUU\", \"UUC\"], \"Polaridade\": \"Apolar\", \"pK1\": 2.20, \"pK2\": 9.31 , \"Massa\" :165.19 },\n",
    "    \"P\":{\"Nome\": \"Prolina\", \"Abreviacao\": \"Pro\", \"Codons\": [\"CCU\",\"CCC\",\"CCA\",\"CCG\"], \"Polaridade\": \"Apolar\", \"pK1\": 1.95, \"pK2\": 10.64 , \"Massa\" :115.13 },\n",
    "    \"S\":{\"Nome\": \"Serina\", \"Abreviacao\": \"Ser\", \"Codons\": [\"UCU\", \"UCC\", \"UCA\", \"UCG\",\"AGU\",\"AGC\"], \"Polaridade\": \"Polar\", \"pK1\": 2.19, \"pK2\": 9.21 , \"Massa\" :105.09 },\n",
    "    \"T\":{\"Nome\": \"Treonina\", \"Abreviacao\": \"Thr\", \"Codons\": [\"ACU\",\"ACC\",\"ACA\",\"ACG\"], \"Polaridade\": \"Polar\", \"pK1\":2.09, \"pK2\":9.10, \"pK3\":13.6 , \"Massa\" :119.12 },\n",
    "    \"W\":{\"Nome\": \"Triptofano\", \"Abreviacao\": \"Trp\", \"Codons\" : [\"UGG\"], \"Polaridade\": \"Apolar\", \"pK1\": 2.46, \"pK2\": 9.41 , \"Massa\" :204.23 },\n",
    "    \"Y\":{\"Nome\":\"Tirosina\", \"Abreviacao\": \"Tyr\", \"Codons\":[\"UAU\",\"UAC\"], \"Polaridade\":\"Polar\", \"pK1\":2.20, \"pK2\":9.11, \"pK3\":10.10 , \"Massa\" :181.19 },\n",
    "    \"V\":{\"Nome\": \"Valina\", \"Abreviacao\": \"Val\", \"Codons\": [\"GUU\", \"GUA\",\"GUC\",\"GUG\"], \"Polaridade\": \"Apolar\", \"pK1\": 2.29, \"pK2\": 9.74 , \"Massa\" :117.15 },\n",
    "    \"Z\":{\"Nome\": \"Códon de parada\", \"Abreviacao\" : \"STOP\", \"Codons\" : [\"UAA\", \"UAG\",\"UGA\"]},\n",
    "}"
   ]
  },
  {
   "cell_type": "code",
   "execution_count": 36,
   "id": "92016d65",
   "metadata": {},
   "outputs": [
    {
     "name": "stdout",
     "output_type": "stream",
     "text": [
      "Insira uma sequência de DNA: TACCGATACAAAGGGACCCTT\n"
     ]
    },
    {
     "data": {
      "text/plain": [
       "'AMFPWE'"
      ]
     },
     "execution_count": 36,
     "metadata": {},
     "output_type": "execute_result"
    }
   ],
   "source": [
    "def DNA2protein():\n",
    "    string = transcricao(input(str(\"Insira uma sequência de DNA: \")))\n",
    "    return traducao(string)\n",
    "\n",
    "DNA2protein()"
   ]
  },
  {
   "cell_type": "code",
   "execution_count": 37,
   "id": "ba8c3adf",
   "metadata": {},
   "outputs": [
    {
     "data": {
      "text/plain": [
       "'Ala-Met-Phe-Pro-Trp-Glu'"
      ]
     },
     "execution_count": 37,
     "metadata": {},
     "output_type": "execute_result"
    }
   ],
   "source": [
    "def abreviar(peptideo):\n",
    "    abreviacoes = str()\n",
    "    for i in range(len(peptideo)):\n",
    "        if i == len(peptideo)-1:\n",
    "            abreviacoes += Aminoacidos[peptideo[i]][\"Abreviacao\"]\n",
    "            break\n",
    "        abreviacoes += Aminoacidos[peptideo[i]][\"Abreviacao\"]+ '-'\n",
    "    \n",
    "    return abreviacoes\n",
    "\n",
    "abreviar(traducao(transcricao(teste_DNA)))"
   ]
  },
  {
   "cell_type": "code",
   "execution_count": 38,
   "id": "d3460b14",
   "metadata": {},
   "outputs": [
    {
     "name": "stdout",
     "output_type": "stream",
     "text": [
      "Os 210 aminoácidos dessa sequência estão distribuídos da seguinte forma:\n",
      "\n",
      "Alanina: 23\n",
      "Arginina: 10\n",
      "Asparagina: 6\n",
      "Ácido Aspártico: 8\n",
      "Cisteina: 6\n",
      "Ácido Glutâmico: 11\n",
      "Glutamina: 5\n",
      "Glicina: 26\n",
      "Histidina: 2\n",
      "Isoleucina: 6\n",
      "Leucina: 25\n",
      "Lisina: 15\n",
      "Metionina: 3\n",
      "Fenilalanina: 10\n",
      "Prolina: 9\n",
      "Serina: 15\n",
      "Treonina: 8\n",
      "Triptofano: 2\n",
      "Tirosina: 0\n",
      "Valina: 20\n"
     ]
    }
   ],
   "source": [
    "def contagem_aa(peptideo):\n",
    "    dict_contagem = {}\n",
    "    Aminoacidos_copia = Aminoacidos.copy()\n",
    "    Aminoacidos_copia.pop(\"Z\") #desconsidera os códons de parada\n",
    "    \n",
    "    for i in peptideo:\n",
    "        if i not in dict_contagem:\n",
    "            dict_contagem[i] = 0\n",
    "            \n",
    "        dict_contagem[i] += 1\n",
    "    \n",
    "    print(f\"Os {len(peptideo)} aminoácidos dessa sequência estão distribuídos da seguinte forma:\\n\")\n",
    "    \n",
    "    for j in Aminoacidos_copia:\n",
    "        if j in dict_contagem:\n",
    "            print(\n",
    "                f\"{Aminoacidos_copia[j]['Nome']}: {dict_contagem[j]}\"\n",
    "            )\n",
    "        else:\n",
    "            print(\n",
    "                f\"{Aminoacidos_copia[j]['Nome']}: 0\"\n",
    "            )\n",
    "            \n",
    "contagem_aa(teste_aa)"
   ]
  },
  {
   "cell_type": "markdown",
   "id": "e78f757e",
   "metadata": {},
   "source": [
    "### Projeto calcula_pI():\n",
    "1) listar pKs em rol - feito\n",
    "2) aglomerar e contar pKs iguais - dicionario_pK feito\n",
    "3) calcular cargas dos grupos carregados (COOH, NH2 e cadeias laterais carregadas) - feito\n",
    "4) selecionar e fazer a média entre os pKs em que o peptídeo passa de carga 0 a -1 - houve tentativa de fazer com média ponderada, mas o resultado não bate com o experimental disponível na literatura\n",
    "\n",
    "Conclusão: código inacabado pois autores não conseguiram compreender como fazer o cálculo."
   ]
  },
  {
   "cell_type": "code",
   "execution_count": 6,
   "id": "ae444368",
   "metadata": {},
   "outputs": [
    {
     "name": "stdout",
     "output_type": "stream",
     "text": [
      "[40, 32, 22, 7, 6, -8, -19]\n"
     ]
    },
    {
     "data": {
      "text/plain": [
       "3.8999999999999995"
      ]
     },
     "execution_count": 6,
     "metadata": {},
     "output_type": "execute_result"
    }
   ],
   "source": [
    "def calcula_pi(peptideo):\n",
    "    lista_pK = list()\n",
    "    contador = 1\n",
    "    \n",
    "    #função para gerar lista de pKs\n",
    "    for i in peptideo:\n",
    "        if len(peptideo) == 1:\n",
    "            pI = (Aminoacidos[i][\"pK1\"]+Aminoacidos[i][\"pK2\"])/2\n",
    "            return pI\n",
    "        \n",
    "        elif contador == 1:\n",
    "            lista_pK.append(Aminoacidos[i][\"pK1\"])\n",
    "            \n",
    "        elif \"pK3\" in Aminoacidos[i]:\n",
    "            lista_pK.append(Aminoacidos[i][\"pK3\"])\n",
    "            \n",
    "        elif contador == len(peptideo):\n",
    "            lista_pK.append(Aminoacidos[i][\"pK2\"])\n",
    "            \n",
    "        contador += 1\n",
    "        \n",
    "    lista_pK.sort()\n",
    "\n",
    "    if len(lista_pK) == 2: #caso a lista de pK tenha 2 elementos\n",
    "        pI = (lista_pK[0]+lista_pK[1])/2\n",
    "        return pI\n",
    "    \n",
    "    #transformando lista_pK em um dicionário com as repetições de cada pK:\n",
    "    dicionario_pK = {}\n",
    "    contador = 1\n",
    "    \n",
    "    for i in range(1, len(lista_pK)):\n",
    "        if lista_pK[i] == lista_pK[i-1]:\n",
    "            contador += 1\n",
    "        else:\n",
    "            contador = 1\n",
    "            \n",
    "        dicionario_pK[lista_pK[i]] = contador\n",
    "        \n",
    "    #função para cálculo das cargas\n",
    "    cargas = []\n",
    "    cargas_negativas = 0\n",
    "    cargas_positivas = 0\n",
    "    \n",
    "    for j in dicionario_pK: #calcula o número de cargas negativas (ácidas) e positivas (básicas)\n",
    "        if float(j) < 6:\n",
    "            cargas.append(-dicionario_pK[j] - cargas_negativas)\n",
    "            cargas_negativas += dicionario_pK[j]\n",
    "        else:\n",
    "            cargas.append(dicionario_pK[j] + cargas_positivas)\n",
    "            cargas_positivas += dicionario_pK[j]\n",
    "    \n",
    "    cargas.sort()\n",
    "    cargas.reverse()\n",
    "    print(cargas)\n",
    "    \n",
    "    #função para selecionar cargas mais próximas de -1 e 0\n",
    "    cargas_menores = [x for x in cargas if x <= -1]\n",
    "    mais_proximo_menor = min(cargas_menores, key=lambda x: abs(x + 1))\n",
    "\n",
    "    cargas_maiores = [x for x in cargas if x >= 0]\n",
    "    mais_proximo_maior = min(cargas_maiores, key=lambda x: abs(x))\n",
    "    \n",
    "    #função que calcula o pI\n",
    "    pK_negativo = lista_pK[cargas.index(mais_proximo_menor)-1]\n",
    "    pK_positivo = lista_pK[cargas.index(mais_proximo_maior)-1]\n",
    "    \n",
    "    pI = (pK_negativo + pK_positivo) / 2\n",
    "    pI = (pK_negativo*abs(mais_proximo_menor) + pK_positivo*abs(mais_proximo_maior)) / (abs(mais_proximo_menor)+abs(mais_proximo_maior))\n",
    "        \n",
    "    return pI\n",
    "\n",
    "calcula_pi(teste_aa)"
   ]
  },
  {
   "cell_type": "code",
   "execution_count": 7,
   "id": "7a2c2044",
   "metadata": {},
   "outputs": [],
   "source": [
    "#!pip install peptides\n",
    "import peptides"
   ]
  },
  {
   "cell_type": "code",
   "execution_count": 8,
   "id": "af73f6fd",
   "metadata": {},
   "outputs": [
    {
     "data": {
      "text/plain": [
       "9.146615914069116"
      ]
     },
     "execution_count": 8,
     "metadata": {},
     "output_type": "execute_result"
    }
   ],
   "source": [
    "peptide = peptides.Peptide(teste_aa)\n",
    "peptide.isoelectric_point()"
   ]
  },
  {
   "cell_type": "code",
   "execution_count": null,
   "id": "d2c93e13",
   "metadata": {},
   "outputs": [],
   "source": []
  }
 ],
 "metadata": {
  "kernelspec": {
   "display_name": "Python 3 (ipykernel)",
   "language": "python",
   "name": "python3"
  },
  "language_info": {
   "codemirror_mode": {
    "name": "ipython",
    "version": 3
   },
   "file_extension": ".py",
   "mimetype": "text/x-python",
   "name": "python",
   "nbconvert_exporter": "python",
   "pygments_lexer": "ipython3",
   "version": "3.11.5"
  }
 },
 "nbformat": 4,
 "nbformat_minor": 5
}
